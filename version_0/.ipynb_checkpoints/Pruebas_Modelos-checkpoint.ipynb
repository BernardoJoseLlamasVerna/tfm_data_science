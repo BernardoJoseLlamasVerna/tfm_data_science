{
 "cells": [
  {
   "cell_type": "code",
   "execution_count": 1,
   "id": "44b950cd",
   "metadata": {},
   "outputs": [],
   "source": [
    "# paquetes para importar\n",
    "import requests\n",
    "import json\n",
    "import numpy as np\n",
    "import datetime\n",
    "import string\n",
    "import pandas as pd"
   ]
  },
  {
   "cell_type": "markdown",
   "id": "391c61ee",
   "metadata": {},
   "source": [
    "## a) Primer intento de modelo"
   ]
  },
  {
   "cell_type": "code",
   "execution_count": 2,
   "id": "7d93091d",
   "metadata": {},
   "outputs": [],
   "source": [
    "df_resume = pd.read_csv('my_data.csv')"
   ]
  },
  {
   "cell_type": "code",
   "execution_count": 3,
   "id": "34816acc",
   "metadata": {},
   "outputs": [],
   "source": [
    "# https://medium.com/mlearning-ai/forecast-with-xgboost-a1abf870c1cc\n",
    "# seguimos ese ejemplo con los datos tal y como los tenemos"
   ]
  },
  {
   "cell_type": "code",
   "execution_count": 4,
   "id": "8f8822a1",
   "metadata": {},
   "outputs": [
    {
     "name": "stdout",
     "output_type": "stream",
     "text": [
      "Warning: ecCodes 2.21.0 or higher is recommended. You are running version 2.14.1\n"
     ]
    }
   ],
   "source": [
    "import xgboost as xgb\n",
    "from xgboost import XGBRegressor\n",
    "from sklearn.metrics import mean_squared_error\n",
    "from sklearn.metrics import mean_absolute_error\n",
    "from sklearn.metrics import r2_score\n",
    "from sklearn.model_selection import train_test_split\n",
    "from sklearn.model_selection import cross_val_score, KFold\n",
    "import plotly.express as px\n",
    "import plotly.figure_factory as ff\n",
    "import plotly.graph_objs as go\n",
    "import chart_studio\n",
    "import chart_studio.plotly as py "
   ]
  },
  {
   "cell_type": "code",
   "execution_count": 5,
   "id": "3d6555db",
   "metadata": {},
   "outputs": [
    {
     "data": {
      "text/html": [
       "<div>\n",
       "<style scoped>\n",
       "    .dataframe tbody tr th:only-of-type {\n",
       "        vertical-align: middle;\n",
       "    }\n",
       "\n",
       "    .dataframe tbody tr th {\n",
       "        vertical-align: top;\n",
       "    }\n",
       "\n",
       "    .dataframe thead th {\n",
       "        text-align: right;\n",
       "    }\n",
       "</style>\n",
       "<table border=\"1\" class=\"dataframe\">\n",
       "  <thead>\n",
       "    <tr style=\"text-align: right;\">\n",
       "      <th></th>\n",
       "      <th>date</th>\n",
       "      <th>hour</th>\n",
       "      <th>value</th>\n",
       "      <th>year</th>\n",
       "      <th>month</th>\n",
       "    </tr>\n",
       "  </thead>\n",
       "  <tbody>\n",
       "    <tr>\n",
       "      <th>0</th>\n",
       "      <td>2014-04-01</td>\n",
       "      <td>0</td>\n",
       "      <td>92.75</td>\n",
       "      <td>2014</td>\n",
       "      <td>4</td>\n",
       "    </tr>\n",
       "    <tr>\n",
       "      <th>1</th>\n",
       "      <td>2014-04-01</td>\n",
       "      <td>1</td>\n",
       "      <td>86.46</td>\n",
       "      <td>2014</td>\n",
       "      <td>4</td>\n",
       "    </tr>\n",
       "    <tr>\n",
       "      <th>2</th>\n",
       "      <td>2014-04-01</td>\n",
       "      <td>2</td>\n",
       "      <td>78.82</td>\n",
       "      <td>2014</td>\n",
       "      <td>4</td>\n",
       "    </tr>\n",
       "    <tr>\n",
       "      <th>3</th>\n",
       "      <td>2014-04-01</td>\n",
       "      <td>3</td>\n",
       "      <td>77.47</td>\n",
       "      <td>2014</td>\n",
       "      <td>4</td>\n",
       "    </tr>\n",
       "    <tr>\n",
       "      <th>4</th>\n",
       "      <td>2014-04-01</td>\n",
       "      <td>4</td>\n",
       "      <td>76.90</td>\n",
       "      <td>2014</td>\n",
       "      <td>4</td>\n",
       "    </tr>\n",
       "  </tbody>\n",
       "</table>\n",
       "</div>"
      ],
      "text/plain": [
       "         date  hour  value  year  month\n",
       "0  2014-04-01     0  92.75  2014      4\n",
       "1  2014-04-01     1  86.46  2014      4\n",
       "2  2014-04-01     2  78.82  2014      4\n",
       "3  2014-04-01     3  77.47  2014      4\n",
       "4  2014-04-01     4  76.90  2014      4"
      ]
     },
     "execution_count": 5,
     "metadata": {},
     "output_type": "execute_result"
    }
   ],
   "source": [
    "df_resume['date'] = pd.DatetimeIndex(df_resume['date']).date\n",
    "df_resume['year'] = pd.DatetimeIndex(df_resume['date']).year\n",
    "df_resume['month'] = pd.DatetimeIndex(df_resume['date']).month\n",
    "df_resume.head()"
   ]
  },
  {
   "cell_type": "code",
   "execution_count": 6,
   "id": "862053a5",
   "metadata": {},
   "outputs": [],
   "source": [
    "X, y =  df_resume.loc[:,['month', 'year']].values, df_resume.loc[:,'value'].values\n",
    "data_dmatrix = xgb.DMatrix(X,label=y)"
   ]
  },
  {
   "cell_type": "code",
   "execution_count": 7,
   "id": "a2511e16",
   "metadata": {},
   "outputs": [],
   "source": [
    "from sklearn.model_selection import train_test_split\n",
    "\n",
    "X_train, X_test, y_train, y_test = train_test_split(X, y, test_size=0.2, random_state=123)"
   ]
  },
  {
   "cell_type": "code",
   "execution_count": 8,
   "id": "5e12dc39",
   "metadata": {},
   "outputs": [
    {
     "data": {
      "text/plain": [
       "XGBRegressor(base_score=0.5, booster='gbtree', colsample_bylevel=1,\n",
       "             colsample_bynode=1, colsample_bytree=1, enable_categorical=False,\n",
       "             gamma=0, gpu_id=-1, importance_type='gain',\n",
       "             interaction_constraints='', learning_rate=0.1, max_delta_step=0,\n",
       "             max_depth=5, min_child_weight=1, missing=nan,\n",
       "             monotone_constraints='()', n_estimators=1000, n_jobs=8,\n",
       "             num_parallel_tree=1, predictor=None, random_state=0, reg_alpha=0,\n",
       "             reg_lambda=1, scale_pos_weight=1, subsample=0.5,\n",
       "             tree_method='exact', validate_parameters=1, verbosity=None)"
      ]
     },
     "execution_count": 8,
     "metadata": {},
     "output_type": "execute_result"
    }
   ],
   "source": [
    "reg_mod = xgb.XGBRegressor(objective='reg:squarederror',\n",
    "    n_estimators=1000,\n",
    "    learning_rate=0.10,\n",
    "    subsample=0.5,\n",
    "    colsample_bytree=1, \n",
    "    max_depth=5,\n",
    ")\n",
    "reg_mod.fit(X_train, y_train)\n",
    "XGBRegressor(base_score=0.5, booster='gbtree', colsample_bylevel=1,\n",
    "             colsample_bynode=1, colsample_bytree=1, gamma=0, gpu_id=-1,\n",
    "             importance_type='gain', interaction_constraints='',\n",
    "             learning_rate=0.1, max_delta_step=0, max_depth=5,\n",
    "             min_child_weight=1, monotone_constraints='()',\n",
    "             n_estimators=1000, n_jobs=8, num_parallel_tree=1, random_state=0,\n",
    "             reg_alpha=0, reg_lambda=1, scale_pos_weight=1, subsample=0.5,\n",
    "             tree_method='exact', validate_parameters=1, verbosity=None)"
   ]
  },
  {
   "cell_type": "code",
   "execution_count": 9,
   "id": "31a53fc1",
   "metadata": {},
   "outputs": [],
   "source": [
    "reg_mod.fit(X_train,y_train)\n",
    "\n",
    "predictions = reg_mod.predict(X_test)"
   ]
  },
  {
   "cell_type": "code",
   "execution_count": 10,
   "id": "5c995a19",
   "metadata": {},
   "outputs": [
    {
     "name": "stdout",
     "output_type": "stream",
     "text": [
      "RMSE: 27.064327\n",
      "R_Squared Score : 0.883698\n",
      "MAPE : 0.103809\n"
     ]
    }
   ],
   "source": [
    "rmse = np.sqrt(mean_squared_error(y_test, predictions))\n",
    "print(\"RMSE: %f\" % (rmse))\n",
    "\n",
    "from sklearn.metrics import r2_score\n",
    "r2 = np.sqrt(r2_score(y_test, predictions))\n",
    "print(\"R_Squared Score : %f\" % (r2))\n",
    "\n",
    "from sklearn.metrics import mean_absolute_percentage_error\n",
    "mape = mean_absolute_percentage_error(y_test, predictions)\n",
    "print(\"MAPE : %f\" % (mape))"
   ]
  },
  {
   "cell_type": "code",
   "execution_count": 11,
   "id": "8946c3e2",
   "metadata": {},
   "outputs": [],
   "source": [
    "# obtenemos un modelo con un R2 del 81.94% y un RMSE del 33.14%\n",
    "## ---> parece satisfactorio \n",
    "\n",
    "## habría que mejorar añadiendo días festivos y día de la semana para ver cómo mejora"
   ]
  },
  {
   "cell_type": "markdown",
   "id": "306d26d1",
   "metadata": {},
   "source": [
    "# Creating an empty Dataframe with column names only\n",
    "result = pd.DataFrame(columns=['Time', 'Test', 'Predicted'])\n",
    "result['Time'] = pd.date_range(start='1/4/2014' , periods=14175)\n",
    "result['Test'] = y_test\n",
    "result['Predicted'] = predictions\n",
    "#Using Plotly to build the graph\n",
    "fig = go.Figure()\n",
    "fig.add_trace(go.Scatter(x=result['Time'], y=result['Test'],\n",
    "                    mode='lines',\n",
    "                    name='Test'))\n",
    "fig.add_trace(go.Scatter(x=result['Time'], y=result['Predicted'],\n",
    "                    mode='lines',\n",
    "                    name='Predicted'))\n",
    "\n",
    "# Edit the layout\n",
    "fig.update_layout(title='Test vs Predicted Values',\n",
    "                   xaxis_title='Months',\n",
    "                   yaxis_title='Electricity (GWh)',\n",
    "                   template='gridon')\n",
    "\n",
    "fig.show()"
   ]
  },
  {
   "cell_type": "markdown",
   "id": "1dca3795",
   "metadata": {},
   "source": [
    "df=pd.DataFrame(predictions, columns=['pred']) \n",
    "df['date'] = pd.date_range(start='2/5/2022', periods=len(df), freq='M')\n",
    "fig = px.line(df, x=\"date\", y=\"pred\")\n",
    "# Edit the layout\n",
    "fig.update_layout(title='China Electricity Consumption Forecast',\n",
    "                   xaxis_title='Date',\n",
    "                   yaxis_title='Electricity - GWh',\n",
    "                   template='gridon')\n",
    "fig.show()"
   ]
  },
  {
   "cell_type": "markdown",
   "id": "15fe1142",
   "metadata": {},
   "source": [
    "### b) Con nuevo dataset"
   ]
  },
  {
   "cell_type": "code",
   "execution_count": 12,
   "id": "04e7b1ed",
   "metadata": {},
   "outputs": [],
   "source": [
    "df_resume = pd.read_csv('my_data_version_1.csv')"
   ]
  },
  {
   "cell_type": "code",
   "execution_count": 13,
   "id": "105e3ae2",
   "metadata": {},
   "outputs": [
    {
     "data": {
      "text/html": [
       "<div>\n",
       "<style scoped>\n",
       "    .dataframe tbody tr th:only-of-type {\n",
       "        vertical-align: middle;\n",
       "    }\n",
       "\n",
       "    .dataframe tbody tr th {\n",
       "        vertical-align: top;\n",
       "    }\n",
       "\n",
       "    .dataframe thead th {\n",
       "        text-align: right;\n",
       "    }\n",
       "</style>\n",
       "<table border=\"1\" class=\"dataframe\">\n",
       "  <thead>\n",
       "    <tr style=\"text-align: right;\">\n",
       "      <th></th>\n",
       "      <th>date</th>\n",
       "      <th>hour</th>\n",
       "      <th>value</th>\n",
       "      <th>weekday</th>\n",
       "      <th>working_day</th>\n",
       "      <th>year</th>\n",
       "      <th>month</th>\n",
       "    </tr>\n",
       "  </thead>\n",
       "  <tbody>\n",
       "    <tr>\n",
       "      <th>0</th>\n",
       "      <td>2014-04-01</td>\n",
       "      <td>0</td>\n",
       "      <td>92.75</td>\n",
       "      <td>1</td>\n",
       "      <td>1</td>\n",
       "      <td>2014</td>\n",
       "      <td>4</td>\n",
       "    </tr>\n",
       "    <tr>\n",
       "      <th>1</th>\n",
       "      <td>2014-04-01</td>\n",
       "      <td>1</td>\n",
       "      <td>86.46</td>\n",
       "      <td>1</td>\n",
       "      <td>1</td>\n",
       "      <td>2014</td>\n",
       "      <td>4</td>\n",
       "    </tr>\n",
       "    <tr>\n",
       "      <th>2</th>\n",
       "      <td>2014-04-01</td>\n",
       "      <td>2</td>\n",
       "      <td>78.82</td>\n",
       "      <td>1</td>\n",
       "      <td>1</td>\n",
       "      <td>2014</td>\n",
       "      <td>4</td>\n",
       "    </tr>\n",
       "    <tr>\n",
       "      <th>3</th>\n",
       "      <td>2014-04-01</td>\n",
       "      <td>3</td>\n",
       "      <td>77.47</td>\n",
       "      <td>1</td>\n",
       "      <td>1</td>\n",
       "      <td>2014</td>\n",
       "      <td>4</td>\n",
       "    </tr>\n",
       "    <tr>\n",
       "      <th>4</th>\n",
       "      <td>2014-04-01</td>\n",
       "      <td>4</td>\n",
       "      <td>76.90</td>\n",
       "      <td>1</td>\n",
       "      <td>1</td>\n",
       "      <td>2014</td>\n",
       "      <td>4</td>\n",
       "    </tr>\n",
       "  </tbody>\n",
       "</table>\n",
       "</div>"
      ],
      "text/plain": [
       "         date  hour  value  weekday  working_day  year  month\n",
       "0  2014-04-01     0  92.75        1            1  2014      4\n",
       "1  2014-04-01     1  86.46        1            1  2014      4\n",
       "2  2014-04-01     2  78.82        1            1  2014      4\n",
       "3  2014-04-01     3  77.47        1            1  2014      4\n",
       "4  2014-04-01     4  76.90        1            1  2014      4"
      ]
     },
     "execution_count": 13,
     "metadata": {},
     "output_type": "execute_result"
    }
   ],
   "source": [
    "df_resume['date'] = pd.DatetimeIndex(df_resume['date']).date\n",
    "df_resume['year'] = pd.DatetimeIndex(df_resume['date']).year\n",
    "df_resume['month'] = pd.DatetimeIndex(df_resume['date']).month\n",
    "df_resume.head()"
   ]
  },
  {
   "cell_type": "code",
   "execution_count": 14,
   "id": "20fb05ee",
   "metadata": {},
   "outputs": [],
   "source": [
    "X, y =  df_resume.loc[:,['month', 'year']].values, df_resume.loc[:,'value'].values\n",
    "data_dmatrix = xgb.DMatrix(X,label=y)"
   ]
  },
  {
   "cell_type": "code",
   "execution_count": 15,
   "id": "4e16520f",
   "metadata": {},
   "outputs": [],
   "source": [
    "from sklearn.model_selection import train_test_split\n",
    "\n",
    "X_train, X_test, y_train, y_test = train_test_split(X, y, test_size=0.2, random_state=123)"
   ]
  },
  {
   "cell_type": "code",
   "execution_count": 16,
   "id": "1710d1dc",
   "metadata": {},
   "outputs": [
    {
     "data": {
      "text/plain": [
       "XGBRegressor(base_score=0.5, booster='gbtree', colsample_bylevel=1,\n",
       "             colsample_bynode=1, colsample_bytree=1, enable_categorical=False,\n",
       "             gamma=0, gpu_id=-1, importance_type='gain',\n",
       "             interaction_constraints='', learning_rate=0.1, max_delta_step=0,\n",
       "             max_depth=5, min_child_weight=1, missing=nan,\n",
       "             monotone_constraints='()', n_estimators=1000, n_jobs=8,\n",
       "             num_parallel_tree=1, predictor=None, random_state=0, reg_alpha=0,\n",
       "             reg_lambda=1, scale_pos_weight=1, subsample=0.5,\n",
       "             tree_method='exact', validate_parameters=1, verbosity=None)"
      ]
     },
     "execution_count": 16,
     "metadata": {},
     "output_type": "execute_result"
    }
   ],
   "source": [
    "reg_mod = xgb.XGBRegressor(objective='reg:squarederror',\n",
    "    n_estimators=1000,\n",
    "    learning_rate=0.10,\n",
    "    subsample=0.5,\n",
    "    colsample_bytree=1, \n",
    "    max_depth=5,\n",
    ")\n",
    "reg_mod.fit(X_train, y_train)\n",
    "XGBRegressor(base_score=0.5, booster='gbtree', colsample_bylevel=1,\n",
    "             colsample_bynode=1, colsample_bytree=1, gamma=0, gpu_id=-1,\n",
    "             importance_type='gain', interaction_constraints='',\n",
    "             learning_rate=0.1, max_delta_step=0, max_depth=5,\n",
    "             min_child_weight=1, monotone_constraints='()',\n",
    "             n_estimators=1000, n_jobs=8, num_parallel_tree=1, random_state=0,\n",
    "             reg_alpha=0, reg_lambda=1, scale_pos_weight=1, subsample=0.5,\n",
    "             tree_method='exact', validate_parameters=1, verbosity=None)"
   ]
  },
  {
   "cell_type": "code",
   "execution_count": 17,
   "id": "25d55492",
   "metadata": {},
   "outputs": [],
   "source": [
    "reg_mod.fit(X_train,y_train)\n",
    "\n",
    "predictions = reg_mod.predict(X_test)"
   ]
  },
  {
   "cell_type": "code",
   "execution_count": 18,
   "id": "06994c41",
   "metadata": {},
   "outputs": [
    {
     "name": "stdout",
     "output_type": "stream",
     "text": [
      "RMSE: 27.064327\n",
      "R_Squared Score : 0.883698\n",
      "MAPE : 0.103809\n"
     ]
    }
   ],
   "source": [
    "rmse = np.sqrt(mean_squared_error(y_test, predictions))\n",
    "print(\"RMSE: %f\" % (rmse))\n",
    "\n",
    "from sklearn.metrics import r2_score\n",
    "r2 = np.sqrt(r2_score(y_test, predictions))\n",
    "print(\"R_Squared Score : %f\" % (r2))\n",
    "\n",
    "from sklearn.metrics import mean_absolute_percentage_error\n",
    "mape = mean_absolute_percentage_error(y_test, predictions)\n",
    "print(\"MAPE : %f\" % (mape))"
   ]
  },
  {
   "cell_type": "code",
   "execution_count": 19,
   "id": "d8543b7d",
   "metadata": {},
   "outputs": [],
   "source": [
    "# hemos mejorado bastante la precisión del modelo añadiendo los días de vacaciones y días de la semana"
   ]
  },
  {
   "cell_type": "markdown",
   "id": "1c7133d4",
   "metadata": {},
   "source": [
    "### c) Dataset con temperaturas"
   ]
  },
  {
   "cell_type": "code",
   "execution_count": 20,
   "id": "3a153c33",
   "metadata": {},
   "outputs": [],
   "source": [
    "df_resume = pd.read_csv('my_data_version_2.csv')"
   ]
  },
  {
   "cell_type": "code",
   "execution_count": 21,
   "id": "eb29f0f2",
   "metadata": {},
   "outputs": [
    {
     "data": {
      "text/html": [
       "<div>\n",
       "<style scoped>\n",
       "    .dataframe tbody tr th:only-of-type {\n",
       "        vertical-align: middle;\n",
       "    }\n",
       "\n",
       "    .dataframe tbody tr th {\n",
       "        vertical-align: top;\n",
       "    }\n",
       "\n",
       "    .dataframe thead th {\n",
       "        text-align: right;\n",
       "    }\n",
       "</style>\n",
       "<table border=\"1\" class=\"dataframe\">\n",
       "  <thead>\n",
       "    <tr style=\"text-align: right;\">\n",
       "      <th></th>\n",
       "      <th>date</th>\n",
       "      <th>hour</th>\n",
       "      <th>value</th>\n",
       "      <th>weekday</th>\n",
       "      <th>working_day</th>\n",
       "      <th>madrid_temp</th>\n",
       "      <th>barcelona_temp</th>\n",
       "      <th>bilbao_temp</th>\n",
       "      <th>sevilla_temp</th>\n",
       "      <th>valencia_temp</th>\n",
       "      <th>year</th>\n",
       "      <th>month</th>\n",
       "    </tr>\n",
       "  </thead>\n",
       "  <tbody>\n",
       "    <tr>\n",
       "      <th>0</th>\n",
       "      <td>2014-04-01</td>\n",
       "      <td>0</td>\n",
       "      <td>92.75</td>\n",
       "      <td>1</td>\n",
       "      <td>1</td>\n",
       "      <td>6.93180</td>\n",
       "      <td>10.72770</td>\n",
       "      <td>12.90347</td>\n",
       "      <td>13.18472</td>\n",
       "      <td>11.11930</td>\n",
       "      <td>2014</td>\n",
       "      <td>4</td>\n",
       "    </tr>\n",
       "    <tr>\n",
       "      <th>1</th>\n",
       "      <td>2014-04-01</td>\n",
       "      <td>1</td>\n",
       "      <td>86.46</td>\n",
       "      <td>1</td>\n",
       "      <td>1</td>\n",
       "      <td>6.22500</td>\n",
       "      <td>10.48672</td>\n",
       "      <td>12.94668</td>\n",
       "      <td>13.17422</td>\n",
       "      <td>10.26528</td>\n",
       "      <td>2014</td>\n",
       "      <td>4</td>\n",
       "    </tr>\n",
       "    <tr>\n",
       "      <th>2</th>\n",
       "      <td>2014-04-01</td>\n",
       "      <td>2</td>\n",
       "      <td>78.82</td>\n",
       "      <td>1</td>\n",
       "      <td>1</td>\n",
       "      <td>6.36930</td>\n",
       "      <td>10.27407</td>\n",
       "      <td>12.83950</td>\n",
       "      <td>13.30044</td>\n",
       "      <td>9.36490</td>\n",
       "      <td>2014</td>\n",
       "      <td>4</td>\n",
       "    </tr>\n",
       "    <tr>\n",
       "      <th>3</th>\n",
       "      <td>2014-04-01</td>\n",
       "      <td>3</td>\n",
       "      <td>77.47</td>\n",
       "      <td>1</td>\n",
       "      <td>1</td>\n",
       "      <td>6.54214</td>\n",
       "      <td>9.92593</td>\n",
       "      <td>12.53115</td>\n",
       "      <td>13.32388</td>\n",
       "      <td>8.63247</td>\n",
       "      <td>2014</td>\n",
       "      <td>4</td>\n",
       "    </tr>\n",
       "    <tr>\n",
       "      <th>4</th>\n",
       "      <td>2014-04-01</td>\n",
       "      <td>4</td>\n",
       "      <td>76.90</td>\n",
       "      <td>1</td>\n",
       "      <td>1</td>\n",
       "      <td>6.66910</td>\n",
       "      <td>9.79630</td>\n",
       "      <td>12.17030</td>\n",
       "      <td>13.25796</td>\n",
       "      <td>8.16445</td>\n",
       "      <td>2014</td>\n",
       "      <td>4</td>\n",
       "    </tr>\n",
       "  </tbody>\n",
       "</table>\n",
       "</div>"
      ],
      "text/plain": [
       "         date  hour  value  weekday  working_day  madrid_temp  barcelona_temp  \\\n",
       "0  2014-04-01     0  92.75        1            1      6.93180        10.72770   \n",
       "1  2014-04-01     1  86.46        1            1      6.22500        10.48672   \n",
       "2  2014-04-01     2  78.82        1            1      6.36930        10.27407   \n",
       "3  2014-04-01     3  77.47        1            1      6.54214         9.92593   \n",
       "4  2014-04-01     4  76.90        1            1      6.66910         9.79630   \n",
       "\n",
       "   bilbao_temp  sevilla_temp  valencia_temp  year  month  \n",
       "0     12.90347      13.18472       11.11930  2014      4  \n",
       "1     12.94668      13.17422       10.26528  2014      4  \n",
       "2     12.83950      13.30044        9.36490  2014      4  \n",
       "3     12.53115      13.32388        8.63247  2014      4  \n",
       "4     12.17030      13.25796        8.16445  2014      4  "
      ]
     },
     "execution_count": 21,
     "metadata": {},
     "output_type": "execute_result"
    }
   ],
   "source": [
    "df_resume['date'] = pd.DatetimeIndex(df_resume['date']).date\n",
    "df_resume['year'] = pd.DatetimeIndex(df_resume['date']).year\n",
    "df_resume['month'] = pd.DatetimeIndex(df_resume['date']).month\n",
    "df_resume.head()"
   ]
  },
  {
   "cell_type": "code",
   "execution_count": 22,
   "id": "c903e72b",
   "metadata": {},
   "outputs": [],
   "source": [
    "X, y =  df_resume.loc[:,['month', 'year']].values, df_resume.loc[:,'value'].values\n",
    "data_dmatrix = xgb.DMatrix(X,label=y)"
   ]
  },
  {
   "cell_type": "code",
   "execution_count": 23,
   "id": "bdef13bf",
   "metadata": {},
   "outputs": [],
   "source": [
    "from sklearn.model_selection import train_test_split\n",
    "\n",
    "X_train, X_test, y_train, y_test = train_test_split(X, y, test_size=0.2, random_state=123)"
   ]
  },
  {
   "cell_type": "code",
   "execution_count": 24,
   "id": "74256e53",
   "metadata": {},
   "outputs": [
    {
     "data": {
      "text/plain": [
       "XGBRegressor(base_score=0.5, booster='gbtree', colsample_bylevel=1,\n",
       "             colsample_bynode=1, colsample_bytree=1, enable_categorical=False,\n",
       "             gamma=0, gpu_id=-1, importance_type='gain',\n",
       "             interaction_constraints='', learning_rate=0.1, max_delta_step=0,\n",
       "             max_depth=5, min_child_weight=1, missing=nan,\n",
       "             monotone_constraints='()', n_estimators=1000, n_jobs=8,\n",
       "             num_parallel_tree=1, predictor=None, random_state=0, reg_alpha=0,\n",
       "             reg_lambda=1, scale_pos_weight=1, subsample=0.5,\n",
       "             tree_method='exact', validate_parameters=1, verbosity=None)"
      ]
     },
     "execution_count": 24,
     "metadata": {},
     "output_type": "execute_result"
    }
   ],
   "source": [
    "reg_mod = xgb.XGBRegressor(objective='reg:squarederror',\n",
    "    n_estimators=1000,\n",
    "    learning_rate=0.10,\n",
    "    subsample=0.5,\n",
    "    colsample_bytree=1, \n",
    "    max_depth=5,\n",
    ")\n",
    "reg_mod.fit(X_train, y_train)\n",
    "XGBRegressor(base_score=0.5, booster='gbtree', colsample_bylevel=1,\n",
    "             colsample_bynode=1, colsample_bytree=1, gamma=0, gpu_id=-1,\n",
    "             importance_type='gain', interaction_constraints='',\n",
    "             learning_rate=0.1, max_delta_step=0, max_depth=5,\n",
    "             min_child_weight=1, monotone_constraints='()',\n",
    "             n_estimators=1000, n_jobs=8, num_parallel_tree=1, random_state=0,\n",
    "             reg_alpha=0, reg_lambda=1, scale_pos_weight=1, subsample=0.5,\n",
    "             tree_method='exact', validate_parameters=1, verbosity=None)"
   ]
  },
  {
   "cell_type": "code",
   "execution_count": 25,
   "id": "1f178e76",
   "metadata": {},
   "outputs": [],
   "source": [
    "reg_mod.fit(X_train,y_train)\n",
    "\n",
    "predictions = reg_mod.predict(X_test)"
   ]
  },
  {
   "cell_type": "code",
   "execution_count": 26,
   "id": "409b2846",
   "metadata": {},
   "outputs": [
    {
     "name": "stdout",
     "output_type": "stream",
     "text": [
      "RMSE: 23.525137\n",
      "R_Squared Score : 0.867910\n",
      "MAPE : 0.098258\n"
     ]
    }
   ],
   "source": [
    "rmse = np.sqrt(mean_squared_error(y_test, predictions))\n",
    "print(\"RMSE: %f\" % (rmse))\n",
    "\n",
    "from sklearn.metrics import r2_score\n",
    "r2 = np.sqrt(r2_score(y_test, predictions))\n",
    "print(\"R_Squared Score : %f\" % (r2))\n",
    "\n",
    "from sklearn.metrics import mean_absolute_percentage_error\n",
    "mape = mean_absolute_percentage_error(y_test, predictions)\n",
    "print(\"MAPE : %f\" % (mape))"
   ]
  },
  {
   "cell_type": "code",
   "execution_count": null,
   "id": "24e784da",
   "metadata": {},
   "outputs": [],
   "source": []
  }
 ],
 "metadata": {
  "kernelspec": {
   "display_name": "Python 3",
   "language": "python",
   "name": "python3"
  },
  "language_info": {
   "codemirror_mode": {
    "name": "ipython",
    "version": 3
   },
   "file_extension": ".py",
   "mimetype": "text/x-python",
   "name": "python",
   "nbconvert_exporter": "python",
   "pygments_lexer": "ipython3",
   "version": "3.8.8"
  }
 },
 "nbformat": 4,
 "nbformat_minor": 5
}
