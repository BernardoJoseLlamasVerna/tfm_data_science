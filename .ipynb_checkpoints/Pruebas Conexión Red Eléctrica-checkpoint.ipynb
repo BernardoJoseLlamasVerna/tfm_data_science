{
 "cells": [
  {
   "cell_type": "code",
   "execution_count": null,
   "id": "7efa1b28",
   "metadata": {},
   "outputs": [],
   "source": [
    "# Intentos de conexión con la API de Red Eléctrica"
   ]
  },
  {
   "cell_type": "code",
   "execution_count": 2,
   "id": "0ec34a5d",
   "metadata": {},
   "outputs": [
    {
     "data": {
      "text/plain": [
       "'cb25867a53d723d058c6d15d29d416fc981bfe92d68e1709ae61ae0157806312'"
      ]
     },
     "execution_count": 2,
     "metadata": {},
     "output_type": "execute_result"
    }
   ],
   "source": [
    "token = 'cb25867a53d723d058c6d15d29d416fc981bfe92d68e1709ae61ae0157806312'\n",
    "token"
   ]
  },
  {
   "cell_type": "code",
   "execution_count": 3,
   "id": "ab3b70a9",
   "metadata": {},
   "outputs": [],
   "source": [
    "# url para llamar a la API de E-SIOS\n",
    "url = 'https://api.esios.ree.es/indicators'"
   ]
  },
  {
   "cell_type": "markdown",
   "id": "c4ab5a79",
   "metadata": {},
   "source": [
    "#### 1.- Código para obtener datos:"
   ]
  },
  {
   "cell_type": "code",
   "execution_count": 5,
   "id": "0e5e43e8",
   "metadata": {},
   "outputs": [],
   "source": [
    "import requests\n",
    "import json\n",
    "import numpy as np\n",
    "import datetime\n",
    "import string\n",
    "import pandas as pd"
   ]
  },
  {
   "cell_type": "code",
   "execution_count": 6,
   "id": "b30ba85c",
   "metadata": {},
   "outputs": [],
   "source": [
    "# días pasados para el estudio de la regresión\n",
    "dias_estudio = 14\n",
    "y_estudio = 4\n",
    "dias_arima = 365*y_estudio\n",
    "dia_semana = 7"
   ]
  },
  {
   "cell_type": "code",
   "execution_count": 8,
   "id": "7db7b655",
   "metadata": {},
   "outputs": [],
   "source": [
    "# días de estudio\n",
    "today = datetime.date.today()\n",
    "start_day = today - datetime.timedelta(days=dias_arima)\n",
    "end_day = datetime.date.today() - datetime.timedelta(days=1)"
   ]
  },
  {
   "cell_type": "code",
   "execution_count": 9,
   "id": "08b98623",
   "metadata": {},
   "outputs": [],
   "source": [
    "# días de predicción\n",
    "tom = datetime.date.today() + datetime.timedelta(days=1)\n",
    "tom_end = datetime.date.today() + datetime.timedelta(days=5)"
   ]
  },
  {
   "cell_type": "code",
   "execution_count": 13,
   "id": "3fe99b70",
   "metadata": {},
   "outputs": [],
   "source": [
    "# pasamos al formato que busca la API:\n",
    "hoy = today.strftime(\"%Y-%m-%d\")\n",
    "start_date = start_day.strftime(\"%Y-%m-%d\")\n",
    "end_date = end_day.strftime(\"%Y-%m-%d\")\n",
    "tomorrow = tom.strftime(\"%Y-%m-%d\")\n",
    "tomorrow_end = tom_end.strftime(\"%Y-%m-%d\")"
   ]
  },
  {
   "cell_type": "code",
   "execution_count": 14,
   "id": "82f5ac9f",
   "metadata": {},
   "outputs": [],
   "source": [
    "# Lista de indicadores\n",
    "resp = requests.get(url, headers = {'Authorization':'Token token=\"%s\"' % (token)})"
   ]
  },
  {
   "cell_type": "code",
   "execution_count": 15,
   "id": "38868f0f",
   "metadata": {},
   "outputs": [],
   "source": [
    "# Ajuste del texto:\n",
    "id_descarga = resp.text.replace(\"\\xf3\", \"o\")"
   ]
  },
  {
   "cell_type": "code",
   "execution_count": null,
   "id": "62b69f7d",
   "metadata": {},
   "outputs": [],
   "source": []
  }
 ],
 "metadata": {
  "kernelspec": {
   "display_name": "Python 3",
   "language": "python",
   "name": "python3"
  },
  "language_info": {
   "codemirror_mode": {
    "name": "ipython",
    "version": 3
   },
   "file_extension": ".py",
   "mimetype": "text/x-python",
   "name": "python",
   "nbconvert_exporter": "python",
   "pygments_lexer": "ipython3",
   "version": "3.7.7"
  }
 },
 "nbformat": 4,
 "nbformat_minor": 5
}
