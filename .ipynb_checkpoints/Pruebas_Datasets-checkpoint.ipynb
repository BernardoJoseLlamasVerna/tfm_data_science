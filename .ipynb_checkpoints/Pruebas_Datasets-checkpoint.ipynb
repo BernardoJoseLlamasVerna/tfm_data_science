{
 "cells": [
  {
   "cell_type": "code",
   "execution_count": 13,
   "id": "85b5af8a",
   "metadata": {},
   "outputs": [],
   "source": [
    "# paquetes para importar\n",
    "import requests\n",
    "import json\n",
    "import numpy as np\n",
    "import datetime\n",
    "import string\n",
    "import pandas as pd"
   ]
  },
  {
   "cell_type": "markdown",
   "id": "0e92b11a",
   "metadata": {},
   "source": [
    "### 0) Dataset original"
   ]
  },
  {
   "cell_type": "code",
   "execution_count": 14,
   "id": "d4eae574",
   "metadata": {},
   "outputs": [],
   "source": [
    "df_version_0 = pd.read_csv('my_data.csv')"
   ]
  },
  {
   "cell_type": "code",
   "execution_count": 15,
   "id": "42aed673",
   "metadata": {},
   "outputs": [
    {
     "data": {
      "text/html": [
       "<div>\n",
       "<style scoped>\n",
       "    .dataframe tbody tr th:only-of-type {\n",
       "        vertical-align: middle;\n",
       "    }\n",
       "\n",
       "    .dataframe tbody tr th {\n",
       "        vertical-align: top;\n",
       "    }\n",
       "\n",
       "    .dataframe thead th {\n",
       "        text-align: right;\n",
       "    }\n",
       "</style>\n",
       "<table border=\"1\" class=\"dataframe\">\n",
       "  <thead>\n",
       "    <tr style=\"text-align: right;\">\n",
       "      <th></th>\n",
       "      <th>date</th>\n",
       "      <th>hour</th>\n",
       "      <th>value</th>\n",
       "    </tr>\n",
       "  </thead>\n",
       "  <tbody>\n",
       "    <tr>\n",
       "      <th>0</th>\n",
       "      <td>2014/04/01</td>\n",
       "      <td>0</td>\n",
       "      <td>92.75</td>\n",
       "    </tr>\n",
       "    <tr>\n",
       "      <th>1</th>\n",
       "      <td>2014/04/01</td>\n",
       "      <td>1</td>\n",
       "      <td>86.46</td>\n",
       "    </tr>\n",
       "    <tr>\n",
       "      <th>2</th>\n",
       "      <td>2014/04/01</td>\n",
       "      <td>2</td>\n",
       "      <td>78.82</td>\n",
       "    </tr>\n",
       "    <tr>\n",
       "      <th>3</th>\n",
       "      <td>2014/04/01</td>\n",
       "      <td>3</td>\n",
       "      <td>77.47</td>\n",
       "    </tr>\n",
       "    <tr>\n",
       "      <th>4</th>\n",
       "      <td>2014/04/01</td>\n",
       "      <td>4</td>\n",
       "      <td>76.90</td>\n",
       "    </tr>\n",
       "  </tbody>\n",
       "</table>\n",
       "</div>"
      ],
      "text/plain": [
       "         date  hour  value\n",
       "0  2014/04/01     0  92.75\n",
       "1  2014/04/01     1  86.46\n",
       "2  2014/04/01     2  78.82\n",
       "3  2014/04/01     3  77.47\n",
       "4  2014/04/01     4  76.90"
      ]
     },
     "execution_count": 15,
     "metadata": {},
     "output_type": "execute_result"
    }
   ],
   "source": [
    "df_version_0.head()"
   ]
  },
  {
   "cell_type": "markdown",
   "id": "0090b634",
   "metadata": {},
   "source": [
    "### 1) Versión 1: añadimos día de la semana y día laboral"
   ]
  },
  {
   "cell_type": "markdown",
   "id": "5c2b864c",
   "metadata": {},
   "source": [
    "### a) Día de la semana:"
   ]
  },
  {
   "cell_type": "markdown",
   "id": "f5e75688",
   "metadata": {},
   "source": [
    "Vamos a añadir una nueva columna `weekday` en el que va a haber un valor según el día: Lunes=0, ..., Domingo=6."
   ]
  },
  {
   "cell_type": "code",
   "execution_count": 17,
   "id": "2f73accf",
   "metadata": {},
   "outputs": [],
   "source": [
    "df_version_1 = pd.read_csv('my_data.csv')"
   ]
  },
  {
   "cell_type": "code",
   "execution_count": 18,
   "id": "3d00f7dd",
   "metadata": {},
   "outputs": [],
   "source": [
    "df_version_1['weekday'] = pd.to_datetime(df_version_1['date']).apply(lambda x: x.weekday())"
   ]
  },
  {
   "cell_type": "code",
   "execution_count": 19,
   "id": "c166ecfa",
   "metadata": {},
   "outputs": [
    {
     "data": {
      "text/html": [
       "<div>\n",
       "<style scoped>\n",
       "    .dataframe tbody tr th:only-of-type {\n",
       "        vertical-align: middle;\n",
       "    }\n",
       "\n",
       "    .dataframe tbody tr th {\n",
       "        vertical-align: top;\n",
       "    }\n",
       "\n",
       "    .dataframe thead th {\n",
       "        text-align: right;\n",
       "    }\n",
       "</style>\n",
       "<table border=\"1\" class=\"dataframe\">\n",
       "  <thead>\n",
       "    <tr style=\"text-align: right;\">\n",
       "      <th></th>\n",
       "      <th>date</th>\n",
       "      <th>hour</th>\n",
       "      <th>value</th>\n",
       "      <th>weekday</th>\n",
       "    </tr>\n",
       "  </thead>\n",
       "  <tbody>\n",
       "    <tr>\n",
       "      <th>0</th>\n",
       "      <td>2014/04/01</td>\n",
       "      <td>0</td>\n",
       "      <td>92.75</td>\n",
       "      <td>1</td>\n",
       "    </tr>\n",
       "    <tr>\n",
       "      <th>1</th>\n",
       "      <td>2014/04/01</td>\n",
       "      <td>1</td>\n",
       "      <td>86.46</td>\n",
       "      <td>1</td>\n",
       "    </tr>\n",
       "    <tr>\n",
       "      <th>2</th>\n",
       "      <td>2014/04/01</td>\n",
       "      <td>2</td>\n",
       "      <td>78.82</td>\n",
       "      <td>1</td>\n",
       "    </tr>\n",
       "    <tr>\n",
       "      <th>3</th>\n",
       "      <td>2014/04/01</td>\n",
       "      <td>3</td>\n",
       "      <td>77.47</td>\n",
       "      <td>1</td>\n",
       "    </tr>\n",
       "    <tr>\n",
       "      <th>4</th>\n",
       "      <td>2014/04/01</td>\n",
       "      <td>4</td>\n",
       "      <td>76.90</td>\n",
       "      <td>1</td>\n",
       "    </tr>\n",
       "  </tbody>\n",
       "</table>\n",
       "</div>"
      ],
      "text/plain": [
       "         date  hour  value  weekday\n",
       "0  2014/04/01     0  92.75        1\n",
       "1  2014/04/01     1  86.46        1\n",
       "2  2014/04/01     2  78.82        1\n",
       "3  2014/04/01     3  77.47        1\n",
       "4  2014/04/01     4  76.90        1"
      ]
     },
     "execution_count": 19,
     "metadata": {},
     "output_type": "execute_result"
    }
   ],
   "source": [
    "df_version_1.head()"
   ]
  },
  {
   "cell_type": "code",
   "execution_count": 20,
   "id": "bf7146d9",
   "metadata": {},
   "outputs": [],
   "source": [
    "df_version_1.to_csv(r'my_data_version_1.csv', index=False)"
   ]
  },
  {
   "cell_type": "markdown",
   "id": "f51dac47",
   "metadata": {},
   "source": [
    "### b) Día laboral o festivo"
   ]
  },
  {
   "cell_type": "markdown",
   "id": "09928899",
   "metadata": {},
   "source": [
    "Vamos a añadir una nueva columna `working_day`: si es sábado/domingo o festivo nacional será 0, si es un día laboral normal será 1."
   ]
  },
  {
   "cell_type": "code",
   "execution_count": 90,
   "id": "e1250fd0",
   "metadata": {},
   "outputs": [],
   "source": [
    "df_version_1 = pd.read_csv('my_data_version_1.csv')"
   ]
  },
  {
   "cell_type": "code",
   "execution_count": 91,
   "id": "6481588a",
   "metadata": {},
   "outputs": [
    {
     "name": "stdout",
     "output_type": "stream",
     "text": [
      "<class 'pandas.core.frame.DataFrame'>\n",
      "RangeIndex: 70872 entries, 0 to 70871\n",
      "Data columns (total 4 columns):\n",
      " #   Column   Non-Null Count  Dtype  \n",
      "---  ------   --------------  -----  \n",
      " 0   date     70872 non-null  object \n",
      " 1   hour     70872 non-null  int64  \n",
      " 2   value    70872 non-null  float64\n",
      " 3   weekday  70872 non-null  int64  \n",
      "dtypes: float64(1), int64(2), object(1)\n",
      "memory usage: 2.2+ MB\n"
     ]
    }
   ],
   "source": [
    "df_version_1.info()"
   ]
  },
  {
   "cell_type": "code",
   "execution_count": 92,
   "id": "e3c48e6c",
   "metadata": {},
   "outputs": [
    {
     "data": {
      "text/plain": [
       "array([1, 2, 3, 4, 5, 6, 0])"
      ]
     },
     "execution_count": 92,
     "metadata": {},
     "output_type": "execute_result"
    }
   ],
   "source": [
    "df_version_1.weekday.unique()"
   ]
  },
  {
   "cell_type": "markdown",
   "id": "ae22330e",
   "metadata": {},
   "source": [
    "Creamos una función para determinar si es sábado/domingo (0) o lunes-viernes (1):"
   ]
  },
  {
   "cell_type": "code",
   "execution_count": 93,
   "id": "a54f184a",
   "metadata": {},
   "outputs": [],
   "source": [
    "# if weekday is 5 or 6 (Saturday or Sunday) is not working day, else working day:\n",
    "def is_working_day(day):\n",
    "    if day == 5 or day == 6:\n",
    "        return 0\n",
    "    else:\n",
    "        return 1"
   ]
  },
  {
   "cell_type": "code",
   "execution_count": 94,
   "id": "ca332e04",
   "metadata": {},
   "outputs": [
    {
     "data": {
      "text/plain": [
       "0"
      ]
     },
     "execution_count": 94,
     "metadata": {},
     "output_type": "execute_result"
    }
   ],
   "source": [
    "is_working_day(5)"
   ]
  },
  {
   "cell_type": "code",
   "execution_count": 95,
   "id": "54296dfe",
   "metadata": {},
   "outputs": [
    {
     "data": {
      "text/plain": [
       "1"
      ]
     },
     "execution_count": 95,
     "metadata": {},
     "output_type": "execute_result"
    }
   ],
   "source": [
    "is_working_day(df_version_1['weekday'][10])"
   ]
  },
  {
   "cell_type": "code",
   "execution_count": 96,
   "id": "0beda673",
   "metadata": {},
   "outputs": [],
   "source": [
    "df_version_1['working_day'] = df_version_1['weekday'].apply(is_working_day)"
   ]
  },
  {
   "cell_type": "code",
   "execution_count": 97,
   "id": "84b3b807",
   "metadata": {},
   "outputs": [
    {
     "data": {
      "text/plain": [
       "array([1, 0])"
      ]
     },
     "execution_count": 97,
     "metadata": {},
     "output_type": "execute_result"
    }
   ],
   "source": [
    "df_version_1.working_day.unique()"
   ]
  },
  {
   "cell_type": "markdown",
   "id": "8b6763f9",
   "metadata": {},
   "source": [
    "Ahora vamos a ver si nuestra fecha `date` es festivo nacional (0) o no (1):"
   ]
  },
  {
   "cell_type": "markdown",
   "id": "bae6823f",
   "metadata": {},
   "source": [
    "Comprobamos que un festivo nacional que cayó en día laboral aparece como laboral (`working_day` = 1):"
   ]
  },
  {
   "cell_type": "code",
   "execution_count": 99,
   "id": "dd17023d",
   "metadata": {},
   "outputs": [
    {
     "data": {
      "text/html": [
       "<div>\n",
       "<style scoped>\n",
       "    .dataframe tbody tr th:only-of-type {\n",
       "        vertical-align: middle;\n",
       "    }\n",
       "\n",
       "    .dataframe tbody tr th {\n",
       "        vertical-align: top;\n",
       "    }\n",
       "\n",
       "    .dataframe thead th {\n",
       "        text-align: right;\n",
       "    }\n",
       "</style>\n",
       "<table border=\"1\" class=\"dataframe\">\n",
       "  <thead>\n",
       "    <tr style=\"text-align: right;\">\n",
       "      <th></th>\n",
       "      <th>date</th>\n",
       "      <th>hour</th>\n",
       "      <th>value</th>\n",
       "      <th>weekday</th>\n",
       "      <th>working_day</th>\n",
       "    </tr>\n",
       "  </thead>\n",
       "  <tbody>\n",
       "    <tr>\n",
       "      <th>3264</th>\n",
       "      <td>2014/08/15</td>\n",
       "      <td>0</td>\n",
       "      <td>109.26</td>\n",
       "      <td>4</td>\n",
       "      <td>1</td>\n",
       "    </tr>\n",
       "    <tr>\n",
       "      <th>3265</th>\n",
       "      <td>2014/08/15</td>\n",
       "      <td>1</td>\n",
       "      <td>110.66</td>\n",
       "      <td>4</td>\n",
       "      <td>1</td>\n",
       "    </tr>\n",
       "    <tr>\n",
       "      <th>3266</th>\n",
       "      <td>2014/08/15</td>\n",
       "      <td>2</td>\n",
       "      <td>114.31</td>\n",
       "      <td>4</td>\n",
       "      <td>1</td>\n",
       "    </tr>\n",
       "    <tr>\n",
       "      <th>3267</th>\n",
       "      <td>2014/08/15</td>\n",
       "      <td>3</td>\n",
       "      <td>115.16</td>\n",
       "      <td>4</td>\n",
       "      <td>1</td>\n",
       "    </tr>\n",
       "    <tr>\n",
       "      <th>3268</th>\n",
       "      <td>2014/08/15</td>\n",
       "      <td>4</td>\n",
       "      <td>120.58</td>\n",
       "      <td>4</td>\n",
       "      <td>1</td>\n",
       "    </tr>\n",
       "    <tr>\n",
       "      <th>3269</th>\n",
       "      <td>2014/08/15</td>\n",
       "      <td>5</td>\n",
       "      <td>119.80</td>\n",
       "      <td>4</td>\n",
       "      <td>1</td>\n",
       "    </tr>\n",
       "    <tr>\n",
       "      <th>3270</th>\n",
       "      <td>2014/08/15</td>\n",
       "      <td>6</td>\n",
       "      <td>121.51</td>\n",
       "      <td>4</td>\n",
       "      <td>1</td>\n",
       "    </tr>\n",
       "    <tr>\n",
       "      <th>3271</th>\n",
       "      <td>2014/08/15</td>\n",
       "      <td>7</td>\n",
       "      <td>116.75</td>\n",
       "      <td>4</td>\n",
       "      <td>1</td>\n",
       "    </tr>\n",
       "    <tr>\n",
       "      <th>3272</th>\n",
       "      <td>2014/08/15</td>\n",
       "      <td>8</td>\n",
       "      <td>117.14</td>\n",
       "      <td>4</td>\n",
       "      <td>1</td>\n",
       "    </tr>\n",
       "    <tr>\n",
       "      <th>3273</th>\n",
       "      <td>2014/08/15</td>\n",
       "      <td>9</td>\n",
       "      <td>117.78</td>\n",
       "      <td>4</td>\n",
       "      <td>1</td>\n",
       "    </tr>\n",
       "    <tr>\n",
       "      <th>3274</th>\n",
       "      <td>2014/08/15</td>\n",
       "      <td>10</td>\n",
       "      <td>115.96</td>\n",
       "      <td>4</td>\n",
       "      <td>1</td>\n",
       "    </tr>\n",
       "    <tr>\n",
       "      <th>3275</th>\n",
       "      <td>2014/08/15</td>\n",
       "      <td>11</td>\n",
       "      <td>115.81</td>\n",
       "      <td>4</td>\n",
       "      <td>1</td>\n",
       "    </tr>\n",
       "    <tr>\n",
       "      <th>3276</th>\n",
       "      <td>2014/08/15</td>\n",
       "      <td>12</td>\n",
       "      <td>113.05</td>\n",
       "      <td>4</td>\n",
       "      <td>1</td>\n",
       "    </tr>\n",
       "    <tr>\n",
       "      <th>3277</th>\n",
       "      <td>2014/08/15</td>\n",
       "      <td>13</td>\n",
       "      <td>113.87</td>\n",
       "      <td>4</td>\n",
       "      <td>1</td>\n",
       "    </tr>\n",
       "    <tr>\n",
       "      <th>3278</th>\n",
       "      <td>2014/08/15</td>\n",
       "      <td>14</td>\n",
       "      <td>115.61</td>\n",
       "      <td>4</td>\n",
       "      <td>1</td>\n",
       "    </tr>\n",
       "    <tr>\n",
       "      <th>3279</th>\n",
       "      <td>2014/08/15</td>\n",
       "      <td>15</td>\n",
       "      <td>112.80</td>\n",
       "      <td>4</td>\n",
       "      <td>1</td>\n",
       "    </tr>\n",
       "    <tr>\n",
       "      <th>3280</th>\n",
       "      <td>2014/08/15</td>\n",
       "      <td>16</td>\n",
       "      <td>113.51</td>\n",
       "      <td>4</td>\n",
       "      <td>1</td>\n",
       "    </tr>\n",
       "    <tr>\n",
       "      <th>3281</th>\n",
       "      <td>2014/08/15</td>\n",
       "      <td>17</td>\n",
       "      <td>113.64</td>\n",
       "      <td>4</td>\n",
       "      <td>1</td>\n",
       "    </tr>\n",
       "    <tr>\n",
       "      <th>3282</th>\n",
       "      <td>2014/08/15</td>\n",
       "      <td>18</td>\n",
       "      <td>113.22</td>\n",
       "      <td>4</td>\n",
       "      <td>1</td>\n",
       "    </tr>\n",
       "    <tr>\n",
       "      <th>3283</th>\n",
       "      <td>2014/08/15</td>\n",
       "      <td>19</td>\n",
       "      <td>113.68</td>\n",
       "      <td>4</td>\n",
       "      <td>1</td>\n",
       "    </tr>\n",
       "    <tr>\n",
       "      <th>3284</th>\n",
       "      <td>2014/08/15</td>\n",
       "      <td>20</td>\n",
       "      <td>115.50</td>\n",
       "      <td>4</td>\n",
       "      <td>1</td>\n",
       "    </tr>\n",
       "    <tr>\n",
       "      <th>3285</th>\n",
       "      <td>2014/08/15</td>\n",
       "      <td>21</td>\n",
       "      <td>125.80</td>\n",
       "      <td>4</td>\n",
       "      <td>1</td>\n",
       "    </tr>\n",
       "    <tr>\n",
       "      <th>3286</th>\n",
       "      <td>2014/08/15</td>\n",
       "      <td>22</td>\n",
       "      <td>126.15</td>\n",
       "      <td>4</td>\n",
       "      <td>1</td>\n",
       "    </tr>\n",
       "    <tr>\n",
       "      <th>3287</th>\n",
       "      <td>2014/08/15</td>\n",
       "      <td>23</td>\n",
       "      <td>111.42</td>\n",
       "      <td>4</td>\n",
       "      <td>1</td>\n",
       "    </tr>\n",
       "  </tbody>\n",
       "</table>\n",
       "</div>"
      ],
      "text/plain": [
       "            date  hour   value  weekday  working_day\n",
       "3264  2014/08/15     0  109.26        4            1\n",
       "3265  2014/08/15     1  110.66        4            1\n",
       "3266  2014/08/15     2  114.31        4            1\n",
       "3267  2014/08/15     3  115.16        4            1\n",
       "3268  2014/08/15     4  120.58        4            1\n",
       "3269  2014/08/15     5  119.80        4            1\n",
       "3270  2014/08/15     6  121.51        4            1\n",
       "3271  2014/08/15     7  116.75        4            1\n",
       "3272  2014/08/15     8  117.14        4            1\n",
       "3273  2014/08/15     9  117.78        4            1\n",
       "3274  2014/08/15    10  115.96        4            1\n",
       "3275  2014/08/15    11  115.81        4            1\n",
       "3276  2014/08/15    12  113.05        4            1\n",
       "3277  2014/08/15    13  113.87        4            1\n",
       "3278  2014/08/15    14  115.61        4            1\n",
       "3279  2014/08/15    15  112.80        4            1\n",
       "3280  2014/08/15    16  113.51        4            1\n",
       "3281  2014/08/15    17  113.64        4            1\n",
       "3282  2014/08/15    18  113.22        4            1\n",
       "3283  2014/08/15    19  113.68        4            1\n",
       "3284  2014/08/15    20  115.50        4            1\n",
       "3285  2014/08/15    21  125.80        4            1\n",
       "3286  2014/08/15    22  126.15        4            1\n",
       "3287  2014/08/15    23  111.42        4            1"
      ]
     },
     "execution_count": 99,
     "metadata": {},
     "output_type": "execute_result"
    }
   ],
   "source": [
    "df_version_1.loc[df_version_1['date'] == '2014/08/15']"
   ]
  },
  {
   "cell_type": "markdown",
   "id": "c3e69b0e",
   "metadata": {},
   "source": [
    "Buscamos los festivos de cada año entre 2014 y 2022 y los concatenamos después:"
   ]
  },
  {
   "cell_type": "code",
   "execution_count": 102,
   "id": "ad8074db",
   "metadata": {},
   "outputs": [],
   "source": [
    "festives_spain_2014 = [\n",
    "    '2014/01/01', '2014/01/06', '2014/04/17', '2014/04/18', '2014/05/01', \n",
    "    '2014/06/19', '2014/08/15', '2014/11/01', '2014/12/06', '2014/12/08', '2014/12/25'\n",
    "]"
   ]
  },
  {
   "cell_type": "code",
   "execution_count": 103,
   "id": "fe6aacb4",
   "metadata": {},
   "outputs": [],
   "source": [
    "festives_spain_2015 = [\n",
    "    '2015/01/01', '2015/01/06', '2015/04/02', '2015/04/03',\n",
    "    '2015/05/01', '2015/10/12', '2015/11/01', \n",
    "    '2015/12/06', '2015/12/08', '2015/12/25'\n",
    "]"
   ]
  },
  {
   "cell_type": "code",
   "execution_count": 104,
   "id": "2de5bdfe",
   "metadata": {},
   "outputs": [],
   "source": [
    "festives_spain_2016 = [\n",
    "    '2016/01/01', '2016/01/06', '2016/03/24', '2016/03/25',\n",
    "    '2016/05/01', '2016/08/15', '2016/10/12', \n",
    "    '2016/11/01', '2016/12/06', '2016/12/08',\n",
    "    '2016/12/25'\n",
    "]"
   ]
  },
  {
   "cell_type": "code",
   "execution_count": 105,
   "id": "bcc04387",
   "metadata": {},
   "outputs": [],
   "source": [
    "festives_spain_2017 = [\n",
    "    '2017/01/01', '2017/01/06', '2017/04/13', '2017/04/14', '2017/05/01',\n",
    "    '2017/08/15', '2017/10/12', '2017/11/01', '2017/12/06',\n",
    "    '2017/12/08', '2017/12/25'\n",
    "]"
   ]
  },
  {
   "cell_type": "code",
   "execution_count": 106,
   "id": "417ab603",
   "metadata": {},
   "outputs": [],
   "source": [
    "festives_spain_2018 = [\n",
    "    '2018/01/01', '2018/01/06', '2018/03/29', '2018/03/30', '2018/05/01',\n",
    "    '2018/08/15', '2018/10/12', '2018/11/01', '2018/12/06',\n",
    "    '2018/12/08', '2018/12/25'\n",
    "]"
   ]
  },
  {
   "cell_type": "code",
   "execution_count": 107,
   "id": "11a70827",
   "metadata": {},
   "outputs": [],
   "source": [
    "festives_spain_2019 = [\n",
    "    '2019/01/01', '2019/01/06', '2019/04/18', '2019/04/19',\n",
    "    '2019/05/01', '2019/08/15', '2019/10/12', '2019/11/01',\n",
    "    '2019/12/06', '2019/12/08', '2019/12/25'\n",
    "]"
   ]
  },
  {
   "cell_type": "code",
   "execution_count": 108,
   "id": "762aef0c",
   "metadata": {},
   "outputs": [],
   "source": [
    "festives_spain_2020 = [\n",
    "    '2020/01/01', '2020/01/06', '2020/04/09', '2020/04/10',\n",
    "    '2020/05/01', '2020/08/15', '2020/10/12', '2020/11/01',\n",
    "    '2020/12/06', '2020/12/08', '2020/12/25'\n",
    "]"
   ]
  },
  {
   "cell_type": "code",
   "execution_count": 109,
   "id": "0472c056",
   "metadata": {},
   "outputs": [],
   "source": [
    "festives_spain_2021 = [\n",
    "    '2021/01/01', '2021/01/06', '2021/04/01', '2021/04/02',\n",
    "    '2021/05/01', '2021/08/15', '2021/10/12', '2021/11/01',\n",
    "    '2021/12/06', '2021/12/08', '2021/12/25'\n",
    "]"
   ]
  },
  {
   "cell_type": "code",
   "execution_count": 110,
   "id": "f932aa54",
   "metadata": {},
   "outputs": [],
   "source": [
    "festives_spain_2022 = [\n",
    "    '2022/01/01', '2022/01/06', '2022/04/14', '2022/04/15',\n",
    "    '2022/05/01', '2022/08/15', '2022/10/12', '2022/11/01',\n",
    "    '2022/12/06', '2022/12/08', '2022/12/25'\n",
    "]"
   ]
  },
  {
   "cell_type": "code",
   "execution_count": 111,
   "id": "6c81dbeb",
   "metadata": {},
   "outputs": [],
   "source": [
    "festives_spain_2014_2021 = festives_spain_2014 + festives_spain_2015 + festives_spain_2016 + festives_spain_2017 + festives_spain_2018 + festives_spain_2019 + festives_spain_2020 + festives_spain_2021 + festives_spain_2022"
   ]
  },
  {
   "cell_type": "code",
   "execution_count": 112,
   "id": "c6ba6ae0",
   "metadata": {},
   "outputs": [
    {
     "data": {
      "text/plain": [
       "['2014/01/01',\n",
       " '2014/01/06',\n",
       " '2014/04/17',\n",
       " '2014/04/18',\n",
       " '2014/05/01',\n",
       " '2014/06/19',\n",
       " '2014/08/15',\n",
       " '2014/11/01',\n",
       " '2014/12/06',\n",
       " '2014/12/08',\n",
       " '2014/12/25',\n",
       " '2015/01/01',\n",
       " '2015/01/06',\n",
       " '2015/04/02',\n",
       " '2015/04/03',\n",
       " '2015/05/01',\n",
       " '2015/10/12',\n",
       " '2015/11/01',\n",
       " '2015/12/06',\n",
       " '2015/12/08',\n",
       " '2015/12/25',\n",
       " '2016/01/01',\n",
       " '2016/01/06',\n",
       " '2016/03/24',\n",
       " '2016/03/25',\n",
       " '2016/05/01',\n",
       " '2016/08/15',\n",
       " '2016/10/12',\n",
       " '2016/11/01',\n",
       " '2016/12/06',\n",
       " '2016/12/08',\n",
       " '2016/12/25',\n",
       " '2017/01/01',\n",
       " '2017/01/06',\n",
       " '2017/04/13',\n",
       " '2017/04/14',\n",
       " '2017/05/01',\n",
       " '2017/08/15',\n",
       " '2017/10/12',\n",
       " '2017/11/01',\n",
       " '2017/12/06',\n",
       " '2017/12/08',\n",
       " '2017/12/25',\n",
       " '2018/01/01',\n",
       " '2018/01/06',\n",
       " '2018/03/29',\n",
       " '2018/03/30',\n",
       " '2018/05/01',\n",
       " '2018/08/15',\n",
       " '2018/10/12',\n",
       " '2018/11/01',\n",
       " '2018/12/06',\n",
       " '2018/12/08',\n",
       " '2018/12/25',\n",
       " '2019/01/01',\n",
       " '2019/01/06',\n",
       " '2019/04/18',\n",
       " '2019/04/19',\n",
       " '2019/05/01',\n",
       " '2019/08/15',\n",
       " '2019/10/12',\n",
       " '2019/11/01',\n",
       " '2019/12/06',\n",
       " '2019/12/08',\n",
       " '2019/12/25',\n",
       " '2020/01/01',\n",
       " '2020/01/06',\n",
       " '2020/04/09',\n",
       " '2020/04/10',\n",
       " '2020/05/01',\n",
       " '2020/08/15',\n",
       " '2020/10/12',\n",
       " '2020/11/01',\n",
       " '2020/12/06',\n",
       " '2020/12/08',\n",
       " '2020/12/25',\n",
       " '2021/01/01',\n",
       " '2021/01/06',\n",
       " '2021/04/01',\n",
       " '2021/04/02',\n",
       " '2021/05/01',\n",
       " '2021/08/15',\n",
       " '2021/10/12',\n",
       " '2021/11/01',\n",
       " '2021/12/06',\n",
       " '2021/12/08',\n",
       " '2021/12/25',\n",
       " '2022/01/01',\n",
       " '2022/01/06',\n",
       " '2022/04/14',\n",
       " '2022/04/15',\n",
       " '2022/05/01',\n",
       " '2022/08/15',\n",
       " '2022/10/12',\n",
       " '2022/11/01',\n",
       " '2022/12/06',\n",
       " '2022/12/08',\n",
       " '2022/12/25']"
      ]
     },
     "execution_count": 112,
     "metadata": {},
     "output_type": "execute_result"
    }
   ],
   "source": [
    "festives_spain_2014_2021"
   ]
  },
  {
   "cell_type": "code",
   "execution_count": 113,
   "id": "b3374a8c",
   "metadata": {},
   "outputs": [],
   "source": [
    "def is_national_festive(date):\n",
    "    if date in festives_spain_2014_2021:\n",
    "        return 0\n",
    "    else:\n",
    "        return 1"
   ]
  },
  {
   "cell_type": "code",
   "execution_count": 114,
   "id": "e59096ad",
   "metadata": {},
   "outputs": [],
   "source": [
    "df_version_1['working_day'] = df_version_1['date'].apply(is_national_festive)"
   ]
  },
  {
   "cell_type": "code",
   "execution_count": 115,
   "id": "3600625b",
   "metadata": {},
   "outputs": [
    {
     "data": {
      "text/html": [
       "<div>\n",
       "<style scoped>\n",
       "    .dataframe tbody tr th:only-of-type {\n",
       "        vertical-align: middle;\n",
       "    }\n",
       "\n",
       "    .dataframe tbody tr th {\n",
       "        vertical-align: top;\n",
       "    }\n",
       "\n",
       "    .dataframe thead th {\n",
       "        text-align: right;\n",
       "    }\n",
       "</style>\n",
       "<table border=\"1\" class=\"dataframe\">\n",
       "  <thead>\n",
       "    <tr style=\"text-align: right;\">\n",
       "      <th></th>\n",
       "      <th>date</th>\n",
       "      <th>hour</th>\n",
       "      <th>value</th>\n",
       "      <th>weekday</th>\n",
       "      <th>working_day</th>\n",
       "    </tr>\n",
       "  </thead>\n",
       "  <tbody>\n",
       "    <tr>\n",
       "      <th>3264</th>\n",
       "      <td>2014/08/15</td>\n",
       "      <td>0</td>\n",
       "      <td>109.26</td>\n",
       "      <td>4</td>\n",
       "      <td>0</td>\n",
       "    </tr>\n",
       "    <tr>\n",
       "      <th>3265</th>\n",
       "      <td>2014/08/15</td>\n",
       "      <td>1</td>\n",
       "      <td>110.66</td>\n",
       "      <td>4</td>\n",
       "      <td>0</td>\n",
       "    </tr>\n",
       "    <tr>\n",
       "      <th>3266</th>\n",
       "      <td>2014/08/15</td>\n",
       "      <td>2</td>\n",
       "      <td>114.31</td>\n",
       "      <td>4</td>\n",
       "      <td>0</td>\n",
       "    </tr>\n",
       "    <tr>\n",
       "      <th>3267</th>\n",
       "      <td>2014/08/15</td>\n",
       "      <td>3</td>\n",
       "      <td>115.16</td>\n",
       "      <td>4</td>\n",
       "      <td>0</td>\n",
       "    </tr>\n",
       "    <tr>\n",
       "      <th>3268</th>\n",
       "      <td>2014/08/15</td>\n",
       "      <td>4</td>\n",
       "      <td>120.58</td>\n",
       "      <td>4</td>\n",
       "      <td>0</td>\n",
       "    </tr>\n",
       "    <tr>\n",
       "      <th>3269</th>\n",
       "      <td>2014/08/15</td>\n",
       "      <td>5</td>\n",
       "      <td>119.80</td>\n",
       "      <td>4</td>\n",
       "      <td>0</td>\n",
       "    </tr>\n",
       "    <tr>\n",
       "      <th>3270</th>\n",
       "      <td>2014/08/15</td>\n",
       "      <td>6</td>\n",
       "      <td>121.51</td>\n",
       "      <td>4</td>\n",
       "      <td>0</td>\n",
       "    </tr>\n",
       "    <tr>\n",
       "      <th>3271</th>\n",
       "      <td>2014/08/15</td>\n",
       "      <td>7</td>\n",
       "      <td>116.75</td>\n",
       "      <td>4</td>\n",
       "      <td>0</td>\n",
       "    </tr>\n",
       "    <tr>\n",
       "      <th>3272</th>\n",
       "      <td>2014/08/15</td>\n",
       "      <td>8</td>\n",
       "      <td>117.14</td>\n",
       "      <td>4</td>\n",
       "      <td>0</td>\n",
       "    </tr>\n",
       "    <tr>\n",
       "      <th>3273</th>\n",
       "      <td>2014/08/15</td>\n",
       "      <td>9</td>\n",
       "      <td>117.78</td>\n",
       "      <td>4</td>\n",
       "      <td>0</td>\n",
       "    </tr>\n",
       "    <tr>\n",
       "      <th>3274</th>\n",
       "      <td>2014/08/15</td>\n",
       "      <td>10</td>\n",
       "      <td>115.96</td>\n",
       "      <td>4</td>\n",
       "      <td>0</td>\n",
       "    </tr>\n",
       "    <tr>\n",
       "      <th>3275</th>\n",
       "      <td>2014/08/15</td>\n",
       "      <td>11</td>\n",
       "      <td>115.81</td>\n",
       "      <td>4</td>\n",
       "      <td>0</td>\n",
       "    </tr>\n",
       "    <tr>\n",
       "      <th>3276</th>\n",
       "      <td>2014/08/15</td>\n",
       "      <td>12</td>\n",
       "      <td>113.05</td>\n",
       "      <td>4</td>\n",
       "      <td>0</td>\n",
       "    </tr>\n",
       "    <tr>\n",
       "      <th>3277</th>\n",
       "      <td>2014/08/15</td>\n",
       "      <td>13</td>\n",
       "      <td>113.87</td>\n",
       "      <td>4</td>\n",
       "      <td>0</td>\n",
       "    </tr>\n",
       "    <tr>\n",
       "      <th>3278</th>\n",
       "      <td>2014/08/15</td>\n",
       "      <td>14</td>\n",
       "      <td>115.61</td>\n",
       "      <td>4</td>\n",
       "      <td>0</td>\n",
       "    </tr>\n",
       "    <tr>\n",
       "      <th>3279</th>\n",
       "      <td>2014/08/15</td>\n",
       "      <td>15</td>\n",
       "      <td>112.80</td>\n",
       "      <td>4</td>\n",
       "      <td>0</td>\n",
       "    </tr>\n",
       "    <tr>\n",
       "      <th>3280</th>\n",
       "      <td>2014/08/15</td>\n",
       "      <td>16</td>\n",
       "      <td>113.51</td>\n",
       "      <td>4</td>\n",
       "      <td>0</td>\n",
       "    </tr>\n",
       "    <tr>\n",
       "      <th>3281</th>\n",
       "      <td>2014/08/15</td>\n",
       "      <td>17</td>\n",
       "      <td>113.64</td>\n",
       "      <td>4</td>\n",
       "      <td>0</td>\n",
       "    </tr>\n",
       "    <tr>\n",
       "      <th>3282</th>\n",
       "      <td>2014/08/15</td>\n",
       "      <td>18</td>\n",
       "      <td>113.22</td>\n",
       "      <td>4</td>\n",
       "      <td>0</td>\n",
       "    </tr>\n",
       "    <tr>\n",
       "      <th>3283</th>\n",
       "      <td>2014/08/15</td>\n",
       "      <td>19</td>\n",
       "      <td>113.68</td>\n",
       "      <td>4</td>\n",
       "      <td>0</td>\n",
       "    </tr>\n",
       "    <tr>\n",
       "      <th>3284</th>\n",
       "      <td>2014/08/15</td>\n",
       "      <td>20</td>\n",
       "      <td>115.50</td>\n",
       "      <td>4</td>\n",
       "      <td>0</td>\n",
       "    </tr>\n",
       "    <tr>\n",
       "      <th>3285</th>\n",
       "      <td>2014/08/15</td>\n",
       "      <td>21</td>\n",
       "      <td>125.80</td>\n",
       "      <td>4</td>\n",
       "      <td>0</td>\n",
       "    </tr>\n",
       "    <tr>\n",
       "      <th>3286</th>\n",
       "      <td>2014/08/15</td>\n",
       "      <td>22</td>\n",
       "      <td>126.15</td>\n",
       "      <td>4</td>\n",
       "      <td>0</td>\n",
       "    </tr>\n",
       "    <tr>\n",
       "      <th>3287</th>\n",
       "      <td>2014/08/15</td>\n",
       "      <td>23</td>\n",
       "      <td>111.42</td>\n",
       "      <td>4</td>\n",
       "      <td>0</td>\n",
       "    </tr>\n",
       "  </tbody>\n",
       "</table>\n",
       "</div>"
      ],
      "text/plain": [
       "            date  hour   value  weekday  working_day\n",
       "3264  2014/08/15     0  109.26        4            0\n",
       "3265  2014/08/15     1  110.66        4            0\n",
       "3266  2014/08/15     2  114.31        4            0\n",
       "3267  2014/08/15     3  115.16        4            0\n",
       "3268  2014/08/15     4  120.58        4            0\n",
       "3269  2014/08/15     5  119.80        4            0\n",
       "3270  2014/08/15     6  121.51        4            0\n",
       "3271  2014/08/15     7  116.75        4            0\n",
       "3272  2014/08/15     8  117.14        4            0\n",
       "3273  2014/08/15     9  117.78        4            0\n",
       "3274  2014/08/15    10  115.96        4            0\n",
       "3275  2014/08/15    11  115.81        4            0\n",
       "3276  2014/08/15    12  113.05        4            0\n",
       "3277  2014/08/15    13  113.87        4            0\n",
       "3278  2014/08/15    14  115.61        4            0\n",
       "3279  2014/08/15    15  112.80        4            0\n",
       "3280  2014/08/15    16  113.51        4            0\n",
       "3281  2014/08/15    17  113.64        4            0\n",
       "3282  2014/08/15    18  113.22        4            0\n",
       "3283  2014/08/15    19  113.68        4            0\n",
       "3284  2014/08/15    20  115.50        4            0\n",
       "3285  2014/08/15    21  125.80        4            0\n",
       "3286  2014/08/15    22  126.15        4            0\n",
       "3287  2014/08/15    23  111.42        4            0"
      ]
     },
     "execution_count": 115,
     "metadata": {},
     "output_type": "execute_result"
    }
   ],
   "source": [
    "df_version_1.loc[df_version_1['date'] == '2014/08/15']"
   ]
  },
  {
   "cell_type": "code",
   "execution_count": null,
   "id": "736805e4",
   "metadata": {},
   "outputs": [],
   "source": []
  }
 ],
 "metadata": {
  "kernelspec": {
   "display_name": "Python 3",
   "language": "python",
   "name": "python3"
  },
  "language_info": {
   "codemirror_mode": {
    "name": "ipython",
    "version": 3
   },
   "file_extension": ".py",
   "mimetype": "text/x-python",
   "name": "python",
   "nbconvert_exporter": "python",
   "pygments_lexer": "ipython3",
   "version": "3.8.8"
  }
 },
 "nbformat": 4,
 "nbformat_minor": 5
}
