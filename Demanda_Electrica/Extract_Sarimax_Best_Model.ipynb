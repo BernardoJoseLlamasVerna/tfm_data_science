{
 "cells": [
  {
   "cell_type": "code",
   "execution_count": 1,
   "id": "368efb37",
   "metadata": {},
   "outputs": [],
   "source": [
    "import json"
   ]
  },
  {
   "cell_type": "code",
   "execution_count": 2,
   "id": "f9b8f007",
   "metadata": {},
   "outputs": [
    {
     "data": {
      "text/plain": [
       "'SARIMAX_models.txt'"
      ]
     },
     "execution_count": 2,
     "metadata": {},
     "output_type": "execute_result"
    }
   ],
   "source": [
    "'SARIMAX_models.txt'"
   ]
  },
  {
   "cell_type": "code",
   "execution_count": 74,
   "id": "2869fe8a",
   "metadata": {},
   "outputs": [],
   "source": [
    "dict1 = {}\n",
    "\n",
    "with open('SARIMAX_models.txt') as fh:\n",
    "    for line in fh:\n",
    "        sarimax_name = line[0:46]\n",
    "        aic_value = line[46:].replace(',\\n', '')\n",
    "        # print(sarimax_name)\n",
    "        dict1[sarimax_name] = aic_value"
   ]
  },
  {
   "cell_type": "code",
   "execution_count": 75,
   "id": "6055b4b4",
   "metadata": {},
   "outputs": [],
   "source": [
    "values = list(dict1.values())\n",
    "del values[-1]"
   ]
  },
  {
   "cell_type": "code",
   "execution_count": 76,
   "id": "d328a4fa",
   "metadata": {},
   "outputs": [],
   "source": [
    "values[-1] = '-51337.93'"
   ]
  },
  {
   "cell_type": "code",
   "execution_count": 79,
   "id": "a3570690",
   "metadata": {},
   "outputs": [],
   "source": [
    "import numpy as np\n",
    "list_ordered = list(np.float_(values))"
   ]
  },
  {
   "cell_type": "code",
   "execution_count": 81,
   "id": "76c52855",
   "metadata": {},
   "outputs": [
    {
     "data": {
      "text/plain": [
       "-65284.16"
      ]
     },
     "execution_count": 81,
     "metadata": {},
     "output_type": "execute_result"
    }
   ],
   "source": [
    "min(list_ordered)"
   ]
  },
  {
   "cell_type": "code",
   "execution_count": 84,
   "id": "c334d05d",
   "metadata": {},
   "outputs": [
    {
     "data": {
      "text/plain": [
       "['Tried out SARIMAX(0, 1, 0)x(0, 1, 0, 7) - AIC:']"
      ]
     },
     "execution_count": 84,
     "metadata": {},
     "output_type": "execute_result"
    }
   ],
   "source": [
    "[name for name, age in dict1.items() if age == '-65284.16']"
   ]
  },
  {
   "cell_type": "code",
   "execution_count": 8,
   "id": "557d6d4b",
   "metadata": {},
   "outputs": [
    {
     "data": {
      "text/plain": [
       "46"
      ]
     },
     "execution_count": 8,
     "metadata": {},
     "output_type": "execute_result"
    }
   ],
   "source": [
    "string = 'Tried out SARIMAX(0, 1, 0)x(0, 1, 0, 7) - AIC:'\n",
    "len(string)"
   ]
  },
  {
   "cell_type": "code",
   "execution_count": 12,
   "id": "4faae99f",
   "metadata": {},
   "outputs": [
    {
     "data": {
      "text/plain": [
       "42"
      ]
     },
     "execution_count": 12,
     "metadata": {},
     "output_type": "execute_result"
    }
   ],
   "source": [
    "string.find(\"AIC:\")"
   ]
  },
  {
   "cell_type": "code",
   "execution_count": 14,
   "id": "49bc7c64",
   "metadata": {},
   "outputs": [
    {
     "data": {
      "text/plain": [
       "'AIC:'"
      ]
     },
     "execution_count": 14,
     "metadata": {},
     "output_type": "execute_result"
    }
   ],
   "source": [
    "string[42:46]"
   ]
  },
  {
   "cell_type": "code",
   "execution_count": null,
   "id": "963c1071",
   "metadata": {},
   "outputs": [],
   "source": []
  }
 ],
 "metadata": {
  "kernelspec": {
   "display_name": "Python 3",
   "language": "python",
   "name": "python3"
  },
  "language_info": {
   "codemirror_mode": {
    "name": "ipython",
    "version": 3
   },
   "file_extension": ".py",
   "mimetype": "text/x-python",
   "name": "python",
   "nbconvert_exporter": "python",
   "pygments_lexer": "ipython3",
   "version": "3.8.8"
  }
 },
 "nbformat": 4,
 "nbformat_minor": 5
}
