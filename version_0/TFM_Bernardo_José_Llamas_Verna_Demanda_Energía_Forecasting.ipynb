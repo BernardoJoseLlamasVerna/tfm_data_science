{
 "cells": [
  {
   "cell_type": "code",
   "execution_count": 1,
   "id": "bf850327",
   "metadata": {},
   "outputs": [],
   "source": [
    "# EXTRACCIÓN DE LOS DATOS"
   ]
  },
  {
   "cell_type": "code",
   "execution_count": 2,
   "id": "351f8d71",
   "metadata": {},
   "outputs": [
    {
     "data": {
      "text/plain": [
       "'cb25867a53d723d058c6d15d29d416fc981bfe92d68e1709ae61ae0157806312'"
      ]
     },
     "execution_count": 2,
     "metadata": {},
     "output_type": "execute_result"
    }
   ],
   "source": [
    "token = 'cb25867a53d723d058c6d15d29d416fc981bfe92d68e1709ae61ae0157806312'\n",
    "token"
   ]
  },
  {
   "cell_type": "code",
   "execution_count": 3,
   "id": "46d0c389",
   "metadata": {},
   "outputs": [],
   "source": [
    "# url para llamar a la API de E-SIOS\n",
    "url = 'https://api.esios.ree.es/indicators'"
   ]
  },
  {
   "cell_type": "code",
   "execution_count": 4,
   "id": "3e86a453",
   "metadata": {},
   "outputs": [],
   "source": [
    "# paquetes para importar\n",
    "import requests\n",
    "import json\n",
    "import numpy as np\n",
    "import datetime\n",
    "import string\n",
    "import pandas as pd"
   ]
  },
  {
   "cell_type": "code",
   "execution_count": 5,
   "id": "fe97cd82",
   "metadata": {},
   "outputs": [],
   "source": [
    "#########################################"
   ]
  },
  {
   "cell_type": "code",
   "execution_count": 6,
   "id": "2144e6c4",
   "metadata": {},
   "outputs": [],
   "source": [
    "## RESUMEN DE LOS DATOS QUE TENEMOS\n",
    "demanda_dataframe_hour = pd.read_csv('demanda_electrica_hora.csv')\n",
    "demanda_dataframe_month = pd.read_csv('demanda_electrica_month.csv')"
   ]
  },
  {
   "cell_type": "code",
   "execution_count": null,
   "id": "e9e0a6d3",
   "metadata": {},
   "outputs": [],
   "source": []
  }
 ],
 "metadata": {
  "kernelspec": {
   "display_name": "Python 3",
   "language": "python",
   "name": "python3"
  },
  "language_info": {
   "codemirror_mode": {
    "name": "ipython",
    "version": 3
   },
   "file_extension": ".py",
   "mimetype": "text/x-python",
   "name": "python",
   "nbconvert_exporter": "python",
   "pygments_lexer": "ipython3",
   "version": "3.8.8"
  }
 },
 "nbformat": 4,
 "nbformat_minor": 5
}
